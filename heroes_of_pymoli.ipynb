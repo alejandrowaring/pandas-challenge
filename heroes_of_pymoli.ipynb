{
 "metadata": {
  "language_info": {
   "codemirror_mode": {
    "name": "ipython",
    "version": 3
   },
   "file_extension": ".py",
   "mimetype": "text/x-python",
   "name": "python",
   "nbconvert_exporter": "python",
   "pygments_lexer": "ipython3",
   "version": "3.6.10"
  },
  "orig_nbformat": 4,
  "kernelspec": {
   "name": "python3",
   "display_name": "Python 3.6.10 64-bit ('PythonData': conda)"
  },
  "interpreter": {
   "hash": "7ad977b3003831861faae922bc1858cc569d7a1ac77f7557b38b5d7591900f20"
  }
 },
 "nbformat": 4,
 "nbformat_minor": 2,
 "cells": [
  {
   "cell_type": "code",
   "execution_count": 1,
   "metadata": {},
   "outputs": [],
   "source": [
    "import os\n",
    "import pandas as pd"
   ]
  },
  {
   "cell_type": "code",
   "execution_count": 2,
   "metadata": {},
   "outputs": [],
   "source": [
    "input_path = os.path.join(\".\",\"Resources\",\"purchase_data.csv\")\n",
    "purch_data = pd.read_csv(input_path)"
   ]
  },
  {
   "source": [
    "<h2>Player Count</h2>"
   ],
   "cell_type": "markdown",
   "metadata": {}
  },
  {
   "cell_type": "code",
   "execution_count": 3,
   "metadata": {},
   "outputs": [
    {
     "output_type": "execute_result",
     "data": {
      "text/plain": [
       "<pandas.io.formats.style.Styler at 0x229dd948390>"
      ],
      "text/html": "<style  type=\"text/css\" >\n</style><table id=\"T_b81f9d08_ddb1_11eb_a661_5cf370a2dbf5\" ><thead>    <tr>        <th class=\"col_heading level0 col0\" >Total Players</th>    </tr></thead><tbody>\n                <tr>\n                                <td id=\"T_b81f9d08_ddb1_11eb_a661_5cf370a2dbf5row0_col0\" class=\"data row0 col0\" >576</td>\n            </tr>\n    </tbody></table>"
     },
     "metadata": {},
     "execution_count": 3
    }
   ],
   "source": [
    "#Get the player count, and print the data frame\n",
    "player_count = len(purch_data[\"SN\"].unique())\n",
    "total_players_df = pd.DataFrame({\n",
    "    \"Total Players\":[player_count]\n",
    "})\n",
    "total_players_df.style.hide_index()"
   ]
  },
  {
   "source": [
    "<h2>Purchasing Analysis(Total)</h2>\n",
    "\n",
    "- Number of Unique Items\n",
    "- Average Purchase Price\n",
    "- Total Number of Purchases\n",
    "- Total Revenue"
   ],
   "cell_type": "markdown",
   "metadata": {}
  },
  {
   "source": [
    "#Purchasing Analysis(Total)\n",
    "#Number of Unique Items\n",
    "unique_item_count = len(purch_data[\"Item ID\"].unique())\n",
    "#Average item price\n",
    "average_item_price = \"${:,.2f}\". format(purch_data[\"Price\"].mean())\n",
    "#Total Number of Purchases\n",
    "purchase_count = len(purch_data.index)\n",
    "#Total Revenue\n",
    "total_revenue = \"${:,.2f}\". format(purch_data[\"Price\"].sum())\n",
    "#Build dataframe for Segment\n",
    "purchasing_analysis_total_df = pd.DataFrame({\n",
    "    \"Number of Unique Items\":[unique_item_count],\n",
    "    \"Average Purchase Price\":[average_item_price],\n",
    "    \"Total Number of Purchases\":[purchase_count],\n",
    "    \"Total Revenue\":[total_revenue]\n",
    "})\n",
    "\n",
    "\n",
    "purchasing_analysis_total_df"
   ],
   "cell_type": "code",
   "metadata": {},
   "execution_count": 4,
   "outputs": [
    {
     "output_type": "execute_result",
     "data": {
      "text/plain": [
       "   Number of Unique Items Average Purchase Price  Total Number of Purchases  \\\n",
       "0                     179                  $3.05                        780   \n",
       "\n",
       "  Total Revenue  \n",
       "0     $2,379.77  "
      ],
      "text/html": "<div>\n<style scoped>\n    .dataframe tbody tr th:only-of-type {\n        vertical-align: middle;\n    }\n\n    .dataframe tbody tr th {\n        vertical-align: top;\n    }\n\n    .dataframe thead th {\n        text-align: right;\n    }\n</style>\n<table border=\"1\" class=\"dataframe\">\n  <thead>\n    <tr style=\"text-align: right;\">\n      <th></th>\n      <th>Number of Unique Items</th>\n      <th>Average Purchase Price</th>\n      <th>Total Number of Purchases</th>\n      <th>Total Revenue</th>\n    </tr>\n  </thead>\n  <tbody>\n    <tr>\n      <th>0</th>\n      <td>179</td>\n      <td>$3.05</td>\n      <td>780</td>\n      <td>$2,379.77</td>\n    </tr>\n  </tbody>\n</table>\n</div>"
     },
     "metadata": {},
     "execution_count": 4
    }
   ]
  },
  {
   "source": [
    "----------------------------\n",
    "<h2>Gender Demographics</h2>\n",
    "\n",
    "- Percentage and count of Male Players\n",
    "- Percentage and count of Female Players\n",
    "- Percentage and count of Other/Non-Disclosed Players"
   ],
   "cell_type": "markdown",
   "metadata": {}
  },
  {
   "cell_type": "code",
   "execution_count": 5,
   "metadata": {},
   "outputs": [
    {
     "output_type": "execute_result",
     "data": {
      "text/plain": [
       "                       Total Count Percentage of Players\n",
       "Gender                                                  \n",
       "Female                          81                14.06%\n",
       "Male                           484                84.03%\n",
       "Other / Non-Disclosed           11                 1.91%"
      ],
      "text/html": "<div>\n<style scoped>\n    .dataframe tbody tr th:only-of-type {\n        vertical-align: middle;\n    }\n\n    .dataframe tbody tr th {\n        vertical-align: top;\n    }\n\n    .dataframe thead th {\n        text-align: right;\n    }\n</style>\n<table border=\"1\" class=\"dataframe\">\n  <thead>\n    <tr style=\"text-align: right;\">\n      <th></th>\n      <th>Total Count</th>\n      <th>Percentage of Players</th>\n    </tr>\n    <tr>\n      <th>Gender</th>\n      <th></th>\n      <th></th>\n    </tr>\n  </thead>\n  <tbody>\n    <tr>\n      <th>Female</th>\n      <td>81</td>\n      <td>14.06%</td>\n    </tr>\n    <tr>\n      <th>Male</th>\n      <td>484</td>\n      <td>84.03%</td>\n    </tr>\n    <tr>\n      <th>Other / Non-Disclosed</th>\n      <td>11</td>\n      <td>1.91%</td>\n    </tr>\n  </tbody>\n</table>\n</div>"
     },
     "metadata": {},
     "execution_count": 5
    }
   ],
   "source": [
    "#Gender Demographics with groupby\n",
    "gender_count_series = purch_data.groupby(\"Gender\").nunique()[\"SN\"]\n",
    "gender_percentage = gender_count_series / player_count\n",
    "\n",
    "gender_demographics = {\n",
    "    'Total Count': gender_count_series,\n",
    "    'Percentage of Players': gender_percentage.map(\"{:.2%}\".format)\n",
    "}\n",
    "gender_demographics_df = pd.DataFrame(gender_demographics)\n",
    "gender_demographics_df"
   ]
  },
  {
   "source": [
    "---\n",
    "<h2>Purchasing Analysis (Gender)</h2>\n",
    "\n",
    "- Purchase Count for each Category\n",
    "- Total Purchase Value for each Catagory\n",
    "- Average Purchase Value for each Category\n",
    "- Average Total Purchase per Person for each Category"
   ],
   "cell_type": "markdown",
   "metadata": {}
  },
  {
   "cell_type": "code",
   "execution_count": 6,
   "metadata": {},
   "outputs": [
    {
     "output_type": "execute_result",
     "data": {
      "text/plain": [
       "                       Purchase Count Total Purchase Value  \\\n",
       "Gender                                                       \n",
       "Female                            113              $361.94   \n",
       "Male                              652            $1,967.64   \n",
       "Other / Non-Disclosed              15               $50.19   \n",
       "\n",
       "                      Average Purchase Value Average Total Purchase Per Person  \n",
       "Gender                                                                          \n",
       "Female                                 $3.20                             $4.47  \n",
       "Male                                   $3.02                             $4.07  \n",
       "Other / Non-Disclosed                  $3.35                             $4.56  "
      ],
      "text/html": "<div>\n<style scoped>\n    .dataframe tbody tr th:only-of-type {\n        vertical-align: middle;\n    }\n\n    .dataframe tbody tr th {\n        vertical-align: top;\n    }\n\n    .dataframe thead th {\n        text-align: right;\n    }\n</style>\n<table border=\"1\" class=\"dataframe\">\n  <thead>\n    <tr style=\"text-align: right;\">\n      <th></th>\n      <th>Purchase Count</th>\n      <th>Total Purchase Value</th>\n      <th>Average Purchase Value</th>\n      <th>Average Total Purchase Per Person</th>\n    </tr>\n    <tr>\n      <th>Gender</th>\n      <th></th>\n      <th></th>\n      <th></th>\n      <th></th>\n    </tr>\n  </thead>\n  <tbody>\n    <tr>\n      <th>Female</th>\n      <td>113</td>\n      <td>$361.94</td>\n      <td>$3.20</td>\n      <td>$4.47</td>\n    </tr>\n    <tr>\n      <th>Male</th>\n      <td>652</td>\n      <td>$1,967.64</td>\n      <td>$3.02</td>\n      <td>$4.07</td>\n    </tr>\n    <tr>\n      <th>Other / Non-Disclosed</th>\n      <td>15</td>\n      <td>$50.19</td>\n      <td>$3.35</td>\n      <td>$4.56</td>\n    </tr>\n  </tbody>\n</table>\n</div>"
     },
     "metadata": {},
     "execution_count": 6
    }
   ],
   "source": [
    "#Purchasing analysis(gender) using groupby\n",
    "gender_data = purch_data.groupby(\"Gender\")\n",
    "gender_totals = gender_data[\"Price\"].sum()\n",
    "gender_counts = gender_data[\"Price\"].count()\n",
    "gender_average = gender_data[\"Price\"].mean()\n",
    "avg_per_person = gender_totals / gender_count_series\n",
    "\n",
    "#Count, Average, Total, Avg per Person\n",
    "\n",
    "\n",
    "gender_analysis_dict = {\"Purchase Count\":gender_counts,\"Total Purchase Value\":gender_totals,\"Average Purchase Value\":gender_average,\"Average Total Purchase Per Person\":avg_per_person}\n",
    "gender_purchasing_analysis = pd.DataFrame(gender_analysis_dict)\n",
    "#And format the data to be nice and pretty\n",
    "\n",
    "gender_purchasing_analysis[\"Total Purchase Value\"] = gender_purchasing_analysis[\"Total Purchase Value\"].map(\"${:,.2f}\".format)\n",
    "gender_purchasing_analysis[\"Average Purchase Value\"] = gender_purchasing_analysis[\"Average Purchase Value\"].map(\"${:.2f}\".format)\n",
    "gender_purchasing_analysis[\"Average Total Purchase Per Person\"] = gender_purchasing_analysis[\"Average Total Purchase Per Person\"].map(\"${:.2f}\".format)\n",
    "gender_purchasing_analysis"
   ]
  },
  {
   "source": [
    "---\n",
    "<h2>Age Demographics</h2>\n",
    "\n",
    "- Establish Age Groups\n",
    "- Total Number of users in each group, and the Percentage of players they cover"
   ],
   "cell_type": "markdown",
   "metadata": {}
  },
  {
   "cell_type": "code",
   "execution_count": 7,
   "metadata": {},
   "outputs": [
    {
     "output_type": "execute_result",
     "data": {
      "text/plain": [
       "           Total Count Percentage of Players\n",
       "Age Group                                   \n",
       "<10                 17                 2.95%\n",
       "10-14               22                 3.82%\n",
       "15-19              107                18.58%\n",
       "20-24              258                44.79%\n",
       "25-29               77                13.37%\n",
       "30-34               52                 9.03%\n",
       "35-39               31                 5.38%\n",
       "40+                 12                 2.08%"
      ],
      "text/html": "<div>\n<style scoped>\n    .dataframe tbody tr th:only-of-type {\n        vertical-align: middle;\n    }\n\n    .dataframe tbody tr th {\n        vertical-align: top;\n    }\n\n    .dataframe thead th {\n        text-align: right;\n    }\n</style>\n<table border=\"1\" class=\"dataframe\">\n  <thead>\n    <tr style=\"text-align: right;\">\n      <th></th>\n      <th>Total Count</th>\n      <th>Percentage of Players</th>\n    </tr>\n    <tr>\n      <th>Age Group</th>\n      <th></th>\n      <th></th>\n    </tr>\n  </thead>\n  <tbody>\n    <tr>\n      <th>&lt;10</th>\n      <td>17</td>\n      <td>2.95%</td>\n    </tr>\n    <tr>\n      <th>10-14</th>\n      <td>22</td>\n      <td>3.82%</td>\n    </tr>\n    <tr>\n      <th>15-19</th>\n      <td>107</td>\n      <td>18.58%</td>\n    </tr>\n    <tr>\n      <th>20-24</th>\n      <td>258</td>\n      <td>44.79%</td>\n    </tr>\n    <tr>\n      <th>25-29</th>\n      <td>77</td>\n      <td>13.37%</td>\n    </tr>\n    <tr>\n      <th>30-34</th>\n      <td>52</td>\n      <td>9.03%</td>\n    </tr>\n    <tr>\n      <th>35-39</th>\n      <td>31</td>\n      <td>5.38%</td>\n    </tr>\n    <tr>\n      <th>40+</th>\n      <td>12</td>\n      <td>2.08%</td>\n    </tr>\n  </tbody>\n</table>\n</div>"
     },
     "metadata": {},
     "execution_count": 7
    }
   ],
   "source": [
    "#Age Demographics\n",
    "#Add the Age Group column to the data set\n",
    "age_bins = [0,9,14,19,24,29,34,39,float(\"inf\")]\n",
    "age_bin_names = ['<10','10-14','15-19','20-24','25-29','30-34','35-39','40+']\n",
    "purch_data[\"Age Group\"] = pd.cut(purch_data[\"Age\"], age_bins, labels=age_bin_names,include_lowest=True)\n",
    "age_data = purch_data.groupby(\"Age Group\")\n",
    "\n",
    "age_count_series = age_data.nunique()[\"SN\"]\n",
    "age_percentage = age_count_series / player_count\n",
    "\n",
    "age_demographics = {\n",
    "    'Total Count': age_count_series,\n",
    "    'Percentage of Players': age_percentage.map(\"{:.2%}\".format)\n",
    "}\n",
    "age_demographics_df = pd.DataFrame(age_demographics)\n",
    "age_demographics_df"
   ]
  },
  {
   "source": [
    "---\n",
    "<h2>Purchasing Analysis (Age)</h2>\n",
    "\n",
    "- Total number of purcahses for each age range\n",
    "- Average Purchase price for each age range\n",
    "- Total Purchase Value for each age range\n",
    "- Average total purchase per Person for each age range"
   ],
   "cell_type": "markdown",
   "metadata": {}
  },
  {
   "cell_type": "code",
   "execution_count": 8,
   "metadata": {},
   "outputs": [
    {
     "output_type": "execute_result",
     "data": {
      "text/plain": [
       "           Purchase Count Average Purchase Price Total Purchase Value  \\\n",
       "Age Group                                                               \n",
       "<10                    23                  $3.35               $77.13   \n",
       "10-14                  28                  $2.96               $82.78   \n",
       "15-19                 136                  $3.04              $412.89   \n",
       "20-24                 365                  $3.05            $1,114.06   \n",
       "25-29                 101                  $2.90              $293.00   \n",
       "30-34                  73                  $2.93              $214.00   \n",
       "35-39                  41                  $3.60              $147.67   \n",
       "40+                    13                  $2.94               $38.24   \n",
       "\n",
       "          Avg Total Purchase per Person  \n",
       "Age Group                                \n",
       "<10                               $4.54  \n",
       "10-14                             $3.76  \n",
       "15-19                             $3.86  \n",
       "20-24                             $4.32  \n",
       "25-29                             $3.81  \n",
       "30-34                             $4.12  \n",
       "35-39                             $4.76  \n",
       "40+                               $3.19  "
      ],
      "text/html": "<div>\n<style scoped>\n    .dataframe tbody tr th:only-of-type {\n        vertical-align: middle;\n    }\n\n    .dataframe tbody tr th {\n        vertical-align: top;\n    }\n\n    .dataframe thead th {\n        text-align: right;\n    }\n</style>\n<table border=\"1\" class=\"dataframe\">\n  <thead>\n    <tr style=\"text-align: right;\">\n      <th></th>\n      <th>Purchase Count</th>\n      <th>Average Purchase Price</th>\n      <th>Total Purchase Value</th>\n      <th>Avg Total Purchase per Person</th>\n    </tr>\n    <tr>\n      <th>Age Group</th>\n      <th></th>\n      <th></th>\n      <th></th>\n      <th></th>\n    </tr>\n  </thead>\n  <tbody>\n    <tr>\n      <th>&lt;10</th>\n      <td>23</td>\n      <td>$3.35</td>\n      <td>$77.13</td>\n      <td>$4.54</td>\n    </tr>\n    <tr>\n      <th>10-14</th>\n      <td>28</td>\n      <td>$2.96</td>\n      <td>$82.78</td>\n      <td>$3.76</td>\n    </tr>\n    <tr>\n      <th>15-19</th>\n      <td>136</td>\n      <td>$3.04</td>\n      <td>$412.89</td>\n      <td>$3.86</td>\n    </tr>\n    <tr>\n      <th>20-24</th>\n      <td>365</td>\n      <td>$3.05</td>\n      <td>$1,114.06</td>\n      <td>$4.32</td>\n    </tr>\n    <tr>\n      <th>25-29</th>\n      <td>101</td>\n      <td>$2.90</td>\n      <td>$293.00</td>\n      <td>$3.81</td>\n    </tr>\n    <tr>\n      <th>30-34</th>\n      <td>73</td>\n      <td>$2.93</td>\n      <td>$214.00</td>\n      <td>$4.12</td>\n    </tr>\n    <tr>\n      <th>35-39</th>\n      <td>41</td>\n      <td>$3.60</td>\n      <td>$147.67</td>\n      <td>$4.76</td>\n    </tr>\n    <tr>\n      <th>40+</th>\n      <td>13</td>\n      <td>$2.94</td>\n      <td>$38.24</td>\n      <td>$3.19</td>\n    </tr>\n  </tbody>\n</table>\n</div>"
     },
     "metadata": {},
     "execution_count": 8
    }
   ],
   "source": [
    "#Purchasing Analysis(AGE)\n",
    "#Gather the Analysis by age\n",
    "\n",
    "#Purchase Count\n",
    "age_count = age_data[\"SN\"].count()\n",
    "#Average Purchase Price\n",
    "age_average = age_data[\"Price\"].mean()\n",
    "#Total Purchase Value\n",
    "age_total = age_data[\"Price\"].sum()\n",
    "#Average Purchase total Per Person\n",
    "age_avg_per_person = age_total / age_count_series\n",
    "\n",
    "age_dict = {'Purchase Count':age_count,'Average Purchase Price':age_average,'Total Purchase Value':age_total,\"Avg Total Purchase per Person\":age_avg_per_person}\n",
    "\n",
    "age_purchasing_analysis = pd.DataFrame(age_dict)\n",
    "age_purchasing_analysis[\"Average Purchase Price\"] = age_purchasing_analysis[\"Average Purchase Price\"].map(\"${:,.2f}\".format)\n",
    "age_purchasing_analysis[\"Total Purchase Value\"] = age_purchasing_analysis[\"Total Purchase Value\"].map(\"${:,.2f}\".format)\n",
    "age_purchasing_analysis[\"Avg Total Purchase per Person\"] = age_purchasing_analysis[\"Avg Total Purchase per Person\"].map(\"${:.2f}\".format)\n",
    "age_purchasing_analysis"
   ]
  },
  {
   "source": [
    "---\n",
    "<h2>Top Spenders</h2>\n",
    "\n",
    "- Player with the most amount of purchases, and their Average Purchase Price and Total Purchase Value"
   ],
   "cell_type": "markdown",
   "metadata": {}
  },
  {
   "cell_type": "code",
   "execution_count": 9,
   "metadata": {},
   "outputs": [
    {
     "output_type": "execute_result",
     "data": {
      "text/plain": [
       "             Purchase Count Average Purchase Price Total Purchase Value\n",
       "SN                                                                     \n",
       "Lisosia93                 5                  $3.79               $18.96\n",
       "Idastidru52               4                  $3.86               $15.45\n",
       "Chamjask73                3                  $4.61               $13.83\n",
       "Iral74                    4                  $3.40               $13.62\n",
       "Iskadarya95               3                  $4.37               $13.10"
      ],
      "text/html": "<div>\n<style scoped>\n    .dataframe tbody tr th:only-of-type {\n        vertical-align: middle;\n    }\n\n    .dataframe tbody tr th {\n        vertical-align: top;\n    }\n\n    .dataframe thead th {\n        text-align: right;\n    }\n</style>\n<table border=\"1\" class=\"dataframe\">\n  <thead>\n    <tr style=\"text-align: right;\">\n      <th></th>\n      <th>Purchase Count</th>\n      <th>Average Purchase Price</th>\n      <th>Total Purchase Value</th>\n    </tr>\n    <tr>\n      <th>SN</th>\n      <th></th>\n      <th></th>\n      <th></th>\n    </tr>\n  </thead>\n  <tbody>\n    <tr>\n      <th>Lisosia93</th>\n      <td>5</td>\n      <td>$3.79</td>\n      <td>$18.96</td>\n    </tr>\n    <tr>\n      <th>Idastidru52</th>\n      <td>4</td>\n      <td>$3.86</td>\n      <td>$15.45</td>\n    </tr>\n    <tr>\n      <th>Chamjask73</th>\n      <td>3</td>\n      <td>$4.61</td>\n      <td>$13.83</td>\n    </tr>\n    <tr>\n      <th>Iral74</th>\n      <td>4</td>\n      <td>$3.40</td>\n      <td>$13.62</td>\n    </tr>\n    <tr>\n      <th>Iskadarya95</th>\n      <td>3</td>\n      <td>$4.37</td>\n      <td>$13.10</td>\n    </tr>\n  </tbody>\n</table>\n</div>"
     },
     "metadata": {},
     "execution_count": 9
    }
   ],
   "source": [
    "#Top Spenders\n",
    "top_spender_group = purch_data.groupby(\"SN\")\n",
    "spender_count = top_spender_group[\"SN\"].count()\n",
    "spender_average = top_spender_group[\"Price\"].mean()\n",
    "spender_total = top_spender_group[\"Price\"].sum()\n",
    "\n",
    "spender_dict = {\"Purchase Count\": spender_count,\"Average Purchase Price\":spender_average,\"Total Purchase Value\":spender_total}\n",
    "\n",
    "spender_df = pd.DataFrame(spender_dict).sort_values(\"Total Purchase Value\", ascending=False)\n",
    "\n",
    "spender_df[\"Average Purchase Price\"] = spender_df[\"Average Purchase Price\"].map(\"${:.2f}\".format)\n",
    "spender_df[\"Total Purchase Value\"] = spender_df[\"Total Purchase Value\"].map(\"${:.2f}\".format)\n",
    "spender_df.head()"
   ]
  },
  {
   "source": [
    "---\n",
    "<h2> Most Popular Items</h2>\n",
    "\n",
    "- Most Popular Items, with their ID, sorted by number of purchases"
   ],
   "cell_type": "markdown",
   "metadata": {}
  },
  {
   "cell_type": "code",
   "execution_count": 10,
   "metadata": {},
   "outputs": [
    {
     "output_type": "execute_result",
     "data": {
      "text/plain": [
       "                                                      Purchase Count  \\\n",
       "Item ID Item Name                                                      \n",
       "92      Final Critic                                              13   \n",
       "178     Oathbreaker, Last Hope of the Breaking Storm              12   \n",
       "145     Fiery Glass Crusader                                       9   \n",
       "132     Persuasion                                                 9   \n",
       "108     Extraction, Quickblade Of Trembling Hands                  9   \n",
       "\n",
       "                                                     Item Price  \\\n",
       "Item ID Item Name                                                 \n",
       "92      Final Critic                                      $4.61   \n",
       "178     Oathbreaker, Last Hope of the Breaking Storm      $4.23   \n",
       "145     Fiery Glass Crusader                              $4.58   \n",
       "132     Persuasion                                        $3.22   \n",
       "108     Extraction, Quickblade Of Trembling Hands         $3.53   \n",
       "\n",
       "                                                     Total Purchase Value  \n",
       "Item ID Item Name                                                          \n",
       "92      Final Critic                                               $59.99  \n",
       "178     Oathbreaker, Last Hope of the Breaking Storm               $50.76  \n",
       "145     Fiery Glass Crusader                                       $41.22  \n",
       "132     Persuasion                                                 $28.99  \n",
       "108     Extraction, Quickblade Of Trembling Hands                  $31.77  "
      ],
      "text/html": "<div>\n<style scoped>\n    .dataframe tbody tr th:only-of-type {\n        vertical-align: middle;\n    }\n\n    .dataframe tbody tr th {\n        vertical-align: top;\n    }\n\n    .dataframe thead th {\n        text-align: right;\n    }\n</style>\n<table border=\"1\" class=\"dataframe\">\n  <thead>\n    <tr style=\"text-align: right;\">\n      <th></th>\n      <th></th>\n      <th>Purchase Count</th>\n      <th>Item Price</th>\n      <th>Total Purchase Value</th>\n    </tr>\n    <tr>\n      <th>Item ID</th>\n      <th>Item Name</th>\n      <th></th>\n      <th></th>\n      <th></th>\n    </tr>\n  </thead>\n  <tbody>\n    <tr>\n      <th>92</th>\n      <th>Final Critic</th>\n      <td>13</td>\n      <td>$4.61</td>\n      <td>$59.99</td>\n    </tr>\n    <tr>\n      <th>178</th>\n      <th>Oathbreaker, Last Hope of the Breaking Storm</th>\n      <td>12</td>\n      <td>$4.23</td>\n      <td>$50.76</td>\n    </tr>\n    <tr>\n      <th>145</th>\n      <th>Fiery Glass Crusader</th>\n      <td>9</td>\n      <td>$4.58</td>\n      <td>$41.22</td>\n    </tr>\n    <tr>\n      <th>132</th>\n      <th>Persuasion</th>\n      <td>9</td>\n      <td>$3.22</td>\n      <td>$28.99</td>\n    </tr>\n    <tr>\n      <th>108</th>\n      <th>Extraction, Quickblade Of Trembling Hands</th>\n      <td>9</td>\n      <td>$3.53</td>\n      <td>$31.77</td>\n    </tr>\n  </tbody>\n</table>\n</div>"
     },
     "metadata": {},
     "execution_count": 10
    }
   ],
   "source": [
    "#Most Popular Items\n",
    "\n",
    "items_group = purch_data.groupby([\"Item ID\",\"Item Name\"])\n",
    "item_count = items_group[\"Item ID\"].count()\n",
    "item_price = items_group[\"Price\"].mean()\n",
    "item_total_purchase = items_group[\"Price\"].sum()\n",
    "\n",
    "item_dict = {\"Purchase Count\":item_count,\"Item Price\":item_price,\"Total Purchase Value\":item_total_purchase}\n",
    "\n",
    "item_df = pd.DataFrame(item_dict).sort_values(\"Purchase Count\",ascending=False)\n",
    "item_df_clean = item_df.copy()\n",
    "#sorted_item = unsorted_item.sort_values(\"Purchase Count\",ascending=False)\n",
    "item_df[\"Item Price\"] = item_df[\"Item Price\"].map(\"${:.2f}\".format)\n",
    "item_df[\"Total Purchase Value\"] = item_df[\"Total Purchase Value\"].map(\"${:.2f}\".format)\n",
    "item_df.head()"
   ]
  },
  {
   "source": [
    "--\n",
    "<h2>Most Profitable Items</h2>\n",
    "\n",
    "- Items with the most amount of profit"
   ],
   "cell_type": "markdown",
   "metadata": {}
  },
  {
   "cell_type": "code",
   "execution_count": 11,
   "metadata": {},
   "outputs": [
    {
     "output_type": "execute_result",
     "data": {
      "text/plain": [
       "                                                      Purchase Count  \\\n",
       "Item ID Item Name                                                      \n",
       "92      Final Critic                                              13   \n",
       "178     Oathbreaker, Last Hope of the Breaking Storm              12   \n",
       "82      Nirvana                                                    9   \n",
       "145     Fiery Glass Crusader                                       9   \n",
       "103     Singed Scalpel                                             8   \n",
       "\n",
       "                                                     Item Price  \\\n",
       "Item ID Item Name                                                 \n",
       "92      Final Critic                                      $4.61   \n",
       "178     Oathbreaker, Last Hope of the Breaking Storm      $4.23   \n",
       "82      Nirvana                                           $4.90   \n",
       "145     Fiery Glass Crusader                              $4.58   \n",
       "103     Singed Scalpel                                    $4.35   \n",
       "\n",
       "                                                     Total Purchase Value  \n",
       "Item ID Item Name                                                          \n",
       "92      Final Critic                                               $59.99  \n",
       "178     Oathbreaker, Last Hope of the Breaking Storm               $50.76  \n",
       "82      Nirvana                                                    $44.10  \n",
       "145     Fiery Glass Crusader                                       $41.22  \n",
       "103     Singed Scalpel                                             $34.80  "
      ],
      "text/html": "<div>\n<style scoped>\n    .dataframe tbody tr th:only-of-type {\n        vertical-align: middle;\n    }\n\n    .dataframe tbody tr th {\n        vertical-align: top;\n    }\n\n    .dataframe thead th {\n        text-align: right;\n    }\n</style>\n<table border=\"1\" class=\"dataframe\">\n  <thead>\n    <tr style=\"text-align: right;\">\n      <th></th>\n      <th></th>\n      <th>Purchase Count</th>\n      <th>Item Price</th>\n      <th>Total Purchase Value</th>\n    </tr>\n    <tr>\n      <th>Item ID</th>\n      <th>Item Name</th>\n      <th></th>\n      <th></th>\n      <th></th>\n    </tr>\n  </thead>\n  <tbody>\n    <tr>\n      <th>92</th>\n      <th>Final Critic</th>\n      <td>13</td>\n      <td>$4.61</td>\n      <td>$59.99</td>\n    </tr>\n    <tr>\n      <th>178</th>\n      <th>Oathbreaker, Last Hope of the Breaking Storm</th>\n      <td>12</td>\n      <td>$4.23</td>\n      <td>$50.76</td>\n    </tr>\n    <tr>\n      <th>82</th>\n      <th>Nirvana</th>\n      <td>9</td>\n      <td>$4.90</td>\n      <td>$44.10</td>\n    </tr>\n    <tr>\n      <th>145</th>\n      <th>Fiery Glass Crusader</th>\n      <td>9</td>\n      <td>$4.58</td>\n      <td>$41.22</td>\n    </tr>\n    <tr>\n      <th>103</th>\n      <th>Singed Scalpel</th>\n      <td>8</td>\n      <td>$4.35</td>\n      <td>$34.80</td>\n    </tr>\n  </tbody>\n</table>\n</div>"
     },
     "metadata": {},
     "execution_count": 11
    }
   ],
   "source": [
    "#Most Profitable Items\n",
    "popular_item_df = item_df_clean.sort_values(\"Total Purchase Value\", ascending=False)\n",
    "popular_item_df[\"Item Price\"] = popular_item_df[\"Item Price\"].map(\"${:.2f}\".format)\n",
    "popular_item_df[\"Total Purchase Value\"] = popular_item_df[\"Total Purchase Value\"].map(\"${:.2f}\".format)\n",
    "popular_item_df.head()"
   ]
  },
  {
   "source": [
    "<h1>Data Observations</h1>\n",
    "\n",
    "Males dominate the playerbase with 84.03% (484 players) of the players, with females trailing behind on 14.06% (81 players). Female and Other/Non-Disclosed genders are willing to spend around 10% more than male players on average per person, per item, \\$4.47 from Females (9.8% more)  and \\$4.56 from Other/Non-Disclosed (12% more) vs the \\$4.06 average spent by male players. 20-24 year olds dominate the playerbase and make 47% (\\$1,114.06) of the revenue alone. However it should be noted that 35-39 year olds are willing to put in more money than any other age group on average per person (\\$4.76)"
   ],
   "cell_type": "markdown",
   "metadata": {}
  },
  {
   "cell_type": "code",
   "execution_count": null,
   "metadata": {},
   "outputs": [],
   "source": []
  }
 ]
}